{
 "cells": [
  {
   "cell_type": "markdown",
   "metadata": {},
   "source": [
    "# **Relatório econometria - ENADE**"
   ]
  },
  {
   "cell_type": "markdown",
   "metadata": {},
   "source": [
    "### Preparando o ambiente"
   ]
  },
  {
   "cell_type": "markdown",
   "metadata": {},
   "source": [
    "* Importando bibliotecas"
   ]
  },
  {
   "cell_type": "code",
   "execution_count": 1,
   "metadata": {},
   "outputs": [],
   "source": [
    "import pandas as pd\n",
    "import numpy as np\n",
    "import scipy.stats as stats\n",
    "import matplotlib.pyplot as plt"
   ]
  },
  {
   "cell_type": "markdown",
   "metadata": {},
   "source": [
    "* Selecionando dados"
   ]
  },
  {
   "cell_type": "code",
   "execution_count": 2,
   "metadata": {},
   "outputs": [
    {
     "data": {
      "text/plain": [
       "(9582, 137)"
      ]
     },
     "execution_count": 2,
     "metadata": {},
     "output_type": "execute_result"
    }
   ],
   "source": [
    "caminho = './bases/microdados-enade-2018econ.csv'\n",
    "df = pd.read_csv(caminho, sep='\\t', encoding='utf-16')\n",
    "df.shape"
   ]
  },
  {
   "cell_type": "markdown",
   "metadata": {},
   "source": [
    "### Delimitando a pesquisa"
   ]
  },
  {
   "cell_type": "markdown",
   "metadata": {},
   "source": [
    "* Estudantes da UFPR"
   ]
  },
  {
   "cell_type": "code",
   "execution_count": 3,
   "metadata": {},
   "outputs": [],
   "source": [
    "df_ufpr = df[df['Co Ies'] == 571]"
   ]
  },
  {
   "cell_type": "markdown",
   "metadata": {},
   "source": [
    "* Confirmando turno da graduação com código do curso no Enade"
   ]
  },
  {
   "cell_type": "code",
   "execution_count": 4,
   "metadata": {},
   "outputs": [
    {
     "data": {
      "text/plain": [
       "Co Turno Graduacao\n",
       "1    [12571]\n",
       "4    [49468]\n",
       "Name: Co Curso, dtype: object"
      ]
     },
     "execution_count": 4,
     "metadata": {},
     "output_type": "execute_result"
    }
   ],
   "source": [
    "df_ufpr.groupby('Co Turno Graduacao')['Co Curso'].unique()"
   ]
  },
  {
   "cell_type": "markdown",
   "metadata": {},
   "source": [
    "* Apenas estudantes com presença e resultados válidos na prova"
   ]
  },
  {
   "cell_type": "code",
   "execution_count": 5,
   "metadata": {},
   "outputs": [],
   "source": [
    "df_ufpr = df_ufpr[df_ufpr['Tp Pres'] == 555]"
   ]
  },
  {
   "cell_type": "markdown",
   "metadata": {},
   "source": [
    "* Selecionando colunas relevantes para o projeto"
   ]
  },
  {
   "cell_type": "code",
   "execution_count": 6,
   "metadata": {},
   "outputs": [],
   "source": [
    "colunas_a_manter = ['Co Ies', 'Co Grupo', 'Co Curso', 'Co Turno Graduacao', 'Tp Pres', 'Nt Ger', 'Qe I04', 'Qe I05', 'Qe I09', 'Qe I10']\n",
    "df_ufpr = df_ufpr[colunas_a_manter].copy()"
   ]
  },
  {
   "cell_type": "markdown",
   "metadata": {},
   "source": [
    "### Tratando os dados"
   ]
  },
  {
   "cell_type": "markdown",
   "metadata": {},
   "source": [
    "* Transformando as colunas de escolaridade e trabalho em binárias"
   ]
  },
  {
   "cell_type": "code",
   "execution_count": 7,
   "metadata": {},
   "outputs": [],
   "source": [
    "colunas_escolaridade = ['Qe I04', 'Qe I05']\n",
    "\n",
    "mapeamento_escolaridade = {\n",
    "    'A': 0,\n",
    "    'B': 0,\n",
    "    'C': 0,\n",
    "    'D': 0,\n",
    "    'E': 1,\n",
    "    'F': 1,\n",
    "}\n",
    "\n",
    "mapeamento_trabalho = {\n",
    "    'A': 0,\n",
    "    'B': 1,\n",
    "    'C': 1,\n",
    "    'D': 1,\n",
    "    'E': 1,\n",
    "    'F': 1,\n",
    "}\n",
    "\n",
    "df_ufpr[colunas_escolaridade] = df_ufpr[colunas_escolaridade].replace(mapeamento_escolaridade)\n",
    "df_ufpr['Qe I10'] = df_ufpr['Qe I10'].replace(mapeamento_trabalho)"
   ]
  },
  {
   "cell_type": "markdown",
   "metadata": {},
   "source": [
    "* Alterando type da coluna de notas gerais para float"
   ]
  },
  {
   "cell_type": "code",
   "execution_count": 8,
   "metadata": {},
   "outputs": [],
   "source": [
    "df_ufpr['Nt Ger'] = df_ufpr['Nt Ger'].apply(lambda x: x.replace(',', ''))\n",
    "df_ufpr['Nt Ger'] = df_ufpr['Nt Ger'].astype(np.float64) / 10"
   ]
  },
  {
   "cell_type": "markdown",
   "metadata": {},
   "source": [
    "* Filtrando os grupos"
   ]
  },
  {
   "cell_type": "code",
   "execution_count": 9,
   "metadata": {},
   "outputs": [],
   "source": [
    "df_ufpr['Pais_com_superior'] = df_ufpr['Qe I04'] + df_ufpr['Qe I05']\n",
    "df_ufpr['Pais_com_superior'] = df_ufpr['Pais_com_superior'].apply(lambda x: 0 if x == 0 else 1)\n",
    "df_ufpr.drop(columns=['Qe I04', 'Qe I05'], inplace=True)"
   ]
  },
  {
   "cell_type": "code",
   "execution_count": 10,
   "metadata": {},
   "outputs": [
    {
     "data": {
      "text/html": [
       "<div>\n",
       "<style scoped>\n",
       "    .dataframe tbody tr th:only-of-type {\n",
       "        vertical-align: middle;\n",
       "    }\n",
       "\n",
       "    .dataframe tbody tr th {\n",
       "        vertical-align: top;\n",
       "    }\n",
       "\n",
       "    .dataframe thead th {\n",
       "        text-align: right;\n",
       "    }\n",
       "</style>\n",
       "<table border=\"1\" class=\"dataframe\">\n",
       "  <thead>\n",
       "    <tr style=\"text-align: right;\">\n",
       "      <th></th>\n",
       "      <th>Co Ies</th>\n",
       "      <th>Co Grupo</th>\n",
       "      <th>Co Curso</th>\n",
       "      <th>Co Turno Graduacao</th>\n",
       "      <th>Tp Pres</th>\n",
       "      <th>Nt Ger</th>\n",
       "      <th>Qe I09</th>\n",
       "      <th>Qe I10</th>\n",
       "      <th>Pais_com_superior</th>\n",
       "    </tr>\n",
       "  </thead>\n",
       "  <tbody>\n",
       "    <tr>\n",
       "      <th>719</th>\n",
       "      <td>571</td>\n",
       "      <td>13</td>\n",
       "      <td>12571</td>\n",
       "      <td>1</td>\n",
       "      <td>555</td>\n",
       "      <td>17.6</td>\n",
       "      <td>A</td>\n",
       "      <td>0</td>\n",
       "      <td>0</td>\n",
       "    </tr>\n",
       "    <tr>\n",
       "      <th>801</th>\n",
       "      <td>571</td>\n",
       "      <td>13</td>\n",
       "      <td>12571</td>\n",
       "      <td>1</td>\n",
       "      <td>555</td>\n",
       "      <td>40.2</td>\n",
       "      <td>A</td>\n",
       "      <td>0</td>\n",
       "      <td>0</td>\n",
       "    </tr>\n",
       "    <tr>\n",
       "      <th>802</th>\n",
       "      <td>571</td>\n",
       "      <td>13</td>\n",
       "      <td>12571</td>\n",
       "      <td>1</td>\n",
       "      <td>555</td>\n",
       "      <td>34.3</td>\n",
       "      <td>A</td>\n",
       "      <td>0</td>\n",
       "      <td>0</td>\n",
       "    </tr>\n",
       "    <tr>\n",
       "      <th>803</th>\n",
       "      <td>571</td>\n",
       "      <td>13</td>\n",
       "      <td>12571</td>\n",
       "      <td>1</td>\n",
       "      <td>555</td>\n",
       "      <td>3.7</td>\n",
       "      <td>A</td>\n",
       "      <td>0</td>\n",
       "      <td>0</td>\n",
       "    </tr>\n",
       "    <tr>\n",
       "      <th>804</th>\n",
       "      <td>571</td>\n",
       "      <td>13</td>\n",
       "      <td>12571</td>\n",
       "      <td>1</td>\n",
       "      <td>555</td>\n",
       "      <td>40.6</td>\n",
       "      <td>A</td>\n",
       "      <td>0</td>\n",
       "      <td>0</td>\n",
       "    </tr>\n",
       "  </tbody>\n",
       "</table>\n",
       "</div>"
      ],
      "text/plain": [
       "     Co Ies  Co Grupo  Co Curso  Co Turno Graduacao  Tp Pres  Nt Ger Qe I09  \\\n",
       "719     571        13     12571                   1      555    17.6      A   \n",
       "801     571        13     12571                   1      555    40.2      A   \n",
       "802     571        13     12571                   1      555    34.3      A   \n",
       "803     571        13     12571                   1      555     3.7      A   \n",
       "804     571        13     12571                   1      555    40.6      A   \n",
       "\n",
       "     Qe I10  Pais_com_superior  \n",
       "719       0                  0  \n",
       "801       0                  0  \n",
       "802       0                  0  \n",
       "803       0                  0  \n",
       "804       0                  0  "
      ]
     },
     "execution_count": 10,
     "metadata": {},
     "output_type": "execute_result"
    }
   ],
   "source": [
    "df_ufpr.head()"
   ]
  },
  {
   "cell_type": "code",
   "execution_count": 11,
   "metadata": {},
   "outputs": [],
   "source": [
    "estudante_trabalha = (df_ufpr['Qe I10'] == 0)\n",
    "estudante_nao_trabalha = (df_ufpr['Qe I10'] == 1)\n",
    "\n",
    "nota_estudante_trabalha = df_ufpr[estudante_trabalha]['Nt Ger']\n",
    "nota_estudante_nao_trabalha = df_ufpr[estudante_nao_trabalha]['Nt Ger']"
   ]
  },
  {
   "cell_type": "code",
   "execution_count": 12,
   "metadata": {},
   "outputs": [],
   "source": [
    "dados_escolaridade_agrupados = df_ufpr.groupby('Pais_com_superior')['Qe I10']\n",
    "porcentagens = dados_escolaridade_agrupados.value_counts(normalize=True) * 100"
   ]
  },
  {
   "cell_type": "markdown",
   "metadata": {},
   "source": [
    "### Plotando gráficos para análise"
   ]
  },
  {
   "cell_type": "markdown",
   "metadata": {},
   "source": [
    "* Escolaridade dos pais e trabalho"
   ]
  },
  {
   "cell_type": "code",
   "execution_count": 13,
   "metadata": {},
   "outputs": [
    {
     "data": {
      "image/png": "[encoded data removed]",
      "text/plain": [
       "<Figure size 1000x500 with 2 Axes>"
      ]
     },
     "metadata": {},
     "output_type": "display_data"
    }
   ],
   "source": [
    "rotulos_variaveis = {\n",
    "    0: 'Não Trabalha',\n",
    "    1: 'Trabalha'\n",
    "}\n",
    "\n",
    "fig, axes = plt.subplots(1, 2, figsize=(10, 5))\n",
    "\n",
    "porcentagens[0][0:2].rename(index=rotulos_variaveis).plot(kind='pie', autopct='%1.1f%%', startangle=90, ax=axes[0], label='')\n",
    "axes[0].set_title('Pais sem ensino superior')\n",
    "\n",
    "porcentagens[1][0:2].rename(index=rotulos_variaveis).plot(kind='pie', autopct='%1.1f%%', startangle=90, ax=axes[1], label='')\n",
    "axes[1].set_title('Algum dos pais com ensino superior')\n",
    "\n",
    "plt.tight_layout()\n",
    "plt.show()\n",
    "\n"
   ]
  },
  {
   "cell_type": "markdown",
   "metadata": {},
   "source": [
    "* box-plot para desempenho na nota geral de estudantes que trabalham/estudantes que não trabalham"
   ]
  },
  {
   "cell_type": "code",
   "execution_count": 14,
   "metadata": {},
   "outputs": [
    {
     "data": {
      "image/png": "[encoded data removed]",
      "text/plain": [
       "<Figure size 800x600 with 1 Axes>"
      ]
     },
     "metadata": {},
     "output_type": "display_data"
    }
   ],
   "source": [
    "plt.figure(figsize=(8, 6))\n",
    "plt.boxplot([nota_estudante_trabalha, nota_estudante_nao_trabalha], labels=['Trabalha', 'Não Trabalha'])\n",
    "plt.title('Comparação das Notas entre Estudantes que Trabalham e Não Trabalham')\n",
    "plt.xlabel('Situação de Trabalho')\n",
    "plt.ylabel('Nota')\n",
    "plt.show()"
   ]
  },
  {
   "cell_type": "markdown",
   "metadata": {},
   "source": [
    "### Testes de hipótese"
   ]
  },
  {
   "cell_type": "markdown",
   "metadata": {},
   "source": [
    "* Teste qui-quadrado para as variáveis binárias (Pais com ensino superior e Estudante trabalha?)"
   ]
  },
  {
   "cell_type": "code",
   "execution_count": 23,
   "metadata": {},
   "outputs": [
    {
     "name": "stdout",
     "output_type": "stream",
     "text": [
      "Tabela de Contingência:\n",
      "Qe I10              0   1\n",
      "Pais_com_superior        \n",
      "0                  40  22\n",
      "1                  12  23\n",
      "Valor p: 0.007926554548117455\n"
     ]
    }
   ],
   "source": [
    "tabela_contingencia = pd.crosstab(df_ufpr['Pais_com_superior'], df_ufpr['Qe I10'])\n",
    "\n",
    "chi2, p_value, dof, expected = stats.chi2_contingency(tabela_contingencia)\n",
    "\n",
    "\n",
    "print('Tabela de Contingência:')\n",
    "print(tabela_contingencia)\n",
    "print('Valor p:', p_value)"
   ]
  },
  {
   "cell_type": "code",
   "execution_count": null,
   "metadata": {},
   "outputs": [],
   "source": []
  }
 ],
 "metadata": {
  "kernelspec": {
   "display_name": "Python 3",
   "language": "python",
   "name": "python3"
  },
  "language_info": {
   "codemirror_mode": {
    "name": "ipython",
    "version": 3
   },
   "file_extension": ".py",
   "mimetype": "text/x-python",
   "name": "python",
   "nbconvert_exporter": "python",
   "pygments_lexer": "ipython3",
   "version": "3.11.4"
  },
  "orig_nbformat": 4
 },
 "nbformat": 4,
 "nbformat_minor": 2
}
